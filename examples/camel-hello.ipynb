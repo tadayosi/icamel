{
 "cells": [
  {
   "cell_type": "code",
   "execution_count": 1,
   "metadata": {},
   "outputs": [
    {
     "name": "stdout",
     "output_type": "stream",
     "text": [
      "hello!\n"
     ]
    }
   ],
   "source": [
    "console.log('hello!')"
   ]
  },
  {
   "cell_type": "code",
   "execution_count": 2,
   "metadata": {},
   "outputs": [],
   "source": [
    "from('timer:js?period=3000')\n",
    "    .log('hello!')"
   ]
  },
  {
   "cell_type": "code",
   "execution_count": 3,
   "metadata": {},
   "outputs": [],
   "source": [
    "// camel-k: language=groovy \n",
    "from('timer:groovy?period=5000')\n",
    "  .setBody().constant('Hello world from Camel K')\n",
    "  .to('log:info')"
   ]
  },
  {
   "cell_type": "code",
   "execution_count": 4,
   "metadata": {},
   "outputs": [],
   "source": [
    "<?xml version=\"1.0\" encoding=\"UTF-8\"?>\n",
    "<routes xmlns=\"http://camel.apache.org/schema/spring\">\n",
    "    <route>\n",
    "        <from uri=\"timer:xml?period=11000\"/>\n",
    "        <setBody>\n",
    "            <constant>Hello Camel K!</constant>\n",
    "        </setBody>\n",
    "        <to uri=\"log:info\"/>\n",
    "    </route>\n",
    "</routes>"
   ]
  },
  {
   "cell_type": "code",
   "execution_count": 5,
   "metadata": {},
   "outputs": [],
   "source": [
    "// camel-k: language=java\n",
    "import org.apache.camel.builder.RouteBuilder;\n",
    "\n",
    "public class Sample extends RouteBuilder {\n",
    "    @Override\n",
    "    public void configure() throws Exception {\n",
    "        from(\"timer:java?period=13000\")\n",
    "            .setBody()\n",
    "              .constant(\"Hello Camel K!\")\n",
    "            .to(\"log:info\");\n",
    "    }\n",
    "}"
   ]
  },
  {
   "cell_type": "code",
   "execution_count": 6,
   "metadata": {},
   "outputs": [],
   "source": [
    "- from:\n",
    "    uri: \"timer:yaml?period=17000\"\n",
    "    steps:\n",
    "      - set-body:\n",
    "          constant: \"Hello world from Camel K\"\n",
    "      - to: \"log:info\""
   ]
  },
  {
   "cell_type": "markdown",
   "metadata": {},
   "source": [
    "### Multiple routes interaction"
   ]
  },
  {
   "cell_type": "code",
   "execution_count": 7,
   "metadata": {},
   "outputs": [],
   "source": [
    "from('direct:in')\n",
    "    .log('>>>>> ${body}')"
   ]
  },
  {
   "cell_type": "code",
   "execution_count": 8,
   "metadata": {},
   "outputs": [],
   "source": [
    "from('timer:multi?period=19000')\n",
    "    .setBody().constant('Hello world from Camel K')\n",
    "    .to(\"direct:in\")"
   ]
  },
  {
   "cell_type": "markdown",
   "metadata": {},
   "source": [
    "### Not working\n",
    "\n",
    "Due to kotlin-compiler conflicting with camel-lsp-server at guava"
   ]
  },
  {
   "cell_type": "code",
   "execution_count": 9,
   "metadata": {},
   "outputs": [
    {
     "ename": "RuntimeException",
     "evalue": "Error creating instance of loader: kts",
     "output_type": "error",
     "traceback": [
      "\u001b[1m\u001b[31m---------------------------------------------------------------------------\u001b[0m",
      "\u001b[1m\u001b[31mjava.lang.RuntimeException: Error creating instance of loader: kts\u001b[0m",
      "\u001b[1m\u001b[31m\tat org.apache.camel.k.support.RuntimeSupport.lambda$lookupLoaderFromResource$10(RuntimeSupport.java:209)\u001b[0m",
      "\u001b[1m\u001b[31m\tat java.base/java.util.Optional.orElseThrow(Optional.java:408)\u001b[0m",
      "\u001b[1m\u001b[31m\tat org.apache.camel.k.support.RuntimeSupport.lookupLoaderFromResource(RuntimeSupport.java:209)\u001b[0m",
      "\u001b[1m\u001b[31m\tat org.apache.camel.k.support.RuntimeSupport.lookupLoaderByLanguage(RuntimeSupport.java:202)\u001b[0m",
      "\u001b[1m\u001b[31m\tat org.apache.camel.k.support.RuntimeSupport.lambda$loaderFor$9(RuntimeSupport.java:175)\u001b[0m",
      "\u001b[1m\u001b[31m\tat java.base/java.util.Optional.orElseGet(Optional.java:369)\u001b[0m",
      "\u001b[1m\u001b[31m\tat org.apache.camel.k.support.RuntimeSupport.loaderFor(RuntimeSupport.java:174)\u001b[0m",
      "\u001b[1m\u001b[31m\tat org.apache.camel.k.listener.RoutesConfigurer.load(RoutesConfigurer.java:83)\u001b[0m",
      "\u001b[1m\u001b[31m\tat io.github.tadayosi.icamel.CamelKernel.eval(CamelKernel.java:147)\u001b[0m",
      "\u001b[1m\u001b[31m\tat io.github.spencerpark.jupyter.kernel.BaseKernel.handleExecuteRequest(BaseKernel.java:334)\u001b[0m",
      "\u001b[1m\u001b[31m\tat io.github.spencerpark.jupyter.channels.ShellChannel.lambda$bind$0(ShellChannel.java:64)\u001b[0m",
      "\u001b[1m\u001b[31m\tat io.github.spencerpark.jupyter.channels.Loop.lambda$new$0(Loop.java:21)\u001b[0m",
      "\u001b[1m\u001b[31m\tat io.github.spencerpark.jupyter.channels.Loop.run(Loop.java:78)\u001b[0m"
     ]
    }
   ],
   "source": [
    "// camel-k: language=kts\n",
    "val rnd = java.util.Random()\n",
    "from(\"timer:kts?period=7000\")\n",
    "    .process { e -> e.getIn().body = \"Hello Camel K!\" }\n",
    "    .process().message {\n",
    "        it.headers[\"RandomValue\"] = rnd.nextInt()\n",
    "    }\n",
    "    .to(\"log:info\")"
   ]
  }
 ],
 "metadata": {
  "kernelspec": {
   "display_name": "Camel",
   "language": "camel",
   "name": "camel"
  },
  "language_info": {
   "codemirror_mode": "javascript",
   "file_extension": ".js",
   "mimetype": "text/javascript",
   "name": "Camel",
   "pygments_lexer": "javascript",
   "version": "3.4.2"
  }
 },
 "nbformat": 4,
 "nbformat_minor": 2
}
